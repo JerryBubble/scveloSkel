{
 "cells": [
  {
   "cell_type": "code",
   "execution_count": 20,
   "metadata": {},
   "outputs": [],
   "source": [
    "import scvelo as scv\n",
    "import scanpy as sc\n",
    "import cellrank as cr\n",
    "import numpy as np\n",
    "import pandas as pd\n",
    "import anndata as ad\n",
    "import sklearn\n",
    "import scipy\n",
    "\n",
    "import matplotlib.pyplot as plt\n",
    "\n",
    "import skeleton_methods.skeleton as skel\n",
    "import numpy as np\n",
    "from sklearn.cluster import KMeans\n",
    "from sklearn.neighbors import NearestNeighbors\n",
    "from scipy.spatial import distance_matrix\n",
    "from scipy.stats import gaussian_kde\n",
    "import collections\n",
    "from collections import defaultdict\n",
    "from scipy.spatial.distance import squareform\n",
    "from scipy.cluster.hierarchy import linkage, fcluster\n",
    "from sklearn.metrics import adjusted_rand_score\n",
    "from scipy.spatial import distance_matrix\n",
    "import igraph\n",
    "\n",
    "import random\n",
    " \n",
    "random.seed(123)\n",
    "\n",
    "adata2000 = scv.read('data/pancreasd2000.h5ad')"
   ]
  },
  {
   "cell_type": "code",
   "execution_count": 2,
   "metadata": {},
   "outputs": [],
   "source": [
    "X = adata2000.layers[\"Ms\"]\n",
    "V = adata2000.layers[\"velocity\"]\n",
    "\n",
    "subset = np.ones(adata2000.n_vars, bool)\n",
    "subset &= np.array( adata2000.var[\"velocity_genes\"].values, dtype = bool)\n",
    "X = X[:, subset]\n",
    "V = V[:, subset]\n",
    "nans = np.isnan(np.sum(V, axis=0))\n",
    "if np.any(nans):\n",
    "    X = X[:, ~nans]\n",
    "    V = V[:, ~nans]\n",
    "V -= np.nanmean(V, axis =1)[:,None]"
   ]
  },
  {
   "cell_type": "code",
   "execution_count": 3,
   "metadata": {},
   "outputs": [],
   "source": [
    "import pickle\n",
    "skeleton_r = pickle.load(open(\"Msskeleton_r.pkl\",\"rb\"))\n",
    "layout_r = pickle.load(open(\"Mslayout_r.pkl\",\"rb\"))\n",
    "layout0 = pickle.load(open(\"Mslayout0.pkl\",\"rb\"))"
   ]
  },
  {
   "attachments": {},
   "cell_type": "markdown",
   "metadata": {},
   "source": [
    "# Using Laplacian Eigenmap for smoothing"
   ]
  },
  {
   "cell_type": "code",
   "execution_count": 4,
   "metadata": {},
   "outputs": [],
   "source": [
    "from sklearn.manifold import SpectralEmbedding\n",
    "LEembedding = SpectralEmbedding(n_components=100)\n",
    "\n",
    "X_LE = LEembedding.fit_transform(X)\n"
   ]
  },
  {
   "cell_type": "code",
   "execution_count": 6,
   "metadata": {},
   "outputs": [],
   "source": [
    "velocity = V\n",
    "\n",
    "knots = skeleton_r[\"centers\"]\n",
    "voron_weights = skeleton_r[\"voron_weights\"]\n",
    "\n",
    "from collections import defaultdict\n",
    "idxSet = defaultdict(lambda: \"Not Present\")\n",
    "for i in range(len(knots)):\n",
    "    idxSet[i] = skeleton_r[\"cluster\"] == i\n",
    "\n",
    "knot_velocity = np.array([[0.0 for _ in  range(velocity.shape[1])] for _ in range(len(knots))])\n",
    "for i in range(len(knots)):\n",
    "    knot_velocity[i,:] = np.mean(velocity[idxSet[i],:], axis = 0)\n",
    "\n",
    "knot_X = np.array([[0.0 for _ in  range(X.shape[1])] for _ in range(len(knots))])\n",
    "for i in range(len(knots)):\n",
    "    knot_X[i,:] = np.mean(X[idxSet[i],:], axis = 0)\n"
   ]
  },
  {
   "cell_type": "code",
   "execution_count": 22,
   "metadata": {},
   "outputs": [],
   "source": [
    "# extending eigenmap to out-of-sample points takes a bit more work, so manually compute eigenmap first\n",
    "from scipy.linalg import eigh\n",
    "adjacency = LEembedding.affinity_matrix_\n",
    "adjacency = sklearn.utils.validation.check_symmetric(adjacency)\n",
    "n_nodes = adjacency.shape[0]\n",
    "\n",
    "laplacian, dd = scipy.sparse.csgraph.laplacian(adjacency, normed=True, return_diag=True)\n",
    "laplacian = sklearn.utils.check_array(laplacian, dtype=np.float64, accept_sparse=True)\n",
    "\n",
    "if scipy.sparse.isspmatrix(laplacian):\n",
    "    laplacian = laplacian.toarray()\n"
   ]
  },
  {
   "cell_type": "code",
   "execution_count": 23,
   "metadata": {},
   "outputs": [],
   "source": [
    "lambdas, diffusion_map = eigh(laplacian)"
   ]
  },
  {
   "cell_type": "code",
   "execution_count": 32,
   "metadata": {},
   "outputs": [
    {
     "data": {
      "text/plain": [
       "(3696, 3696)"
      ]
     },
     "execution_count": 32,
     "metadata": {},
     "output_type": "execute_result"
    }
   ],
   "source": [
    "diffusion_map.shape"
   ]
  },
  {
   "cell_type": "code",
   "execution_count": 33,
   "metadata": {},
   "outputs": [],
   "source": [
    "n_components = 100\n",
    "embedding = diffusion_map.T[:n_components] * dd\n",
    "embedding = sklearn.utils.extmath._deterministic_vector_sign_flip(embedding)\n",
    "embedding = embedding.T"
   ]
  },
  {
   "cell_type": "code",
   "execution_count": 34,
   "metadata": {},
   "outputs": [
    {
     "data": {
      "text/plain": [
       "(3696, 100)"
      ]
     },
     "execution_count": 34,
     "metadata": {},
     "output_type": "execute_result"
    }
   ],
   "source": [
    "embedding.shape"
   ]
  },
  {
   "cell_type": "code",
   "execution_count": 36,
   "metadata": {},
   "outputs": [
    {
     "data": {
      "image/png": "[encoded data removed]",
      "text/plain": [
       "<Figure size 640x480 with 1 Axes>"
      ]
     },
     "metadata": {},
     "output_type": "display_data"
    }
   ],
   "source": [
    "plt.scatter(X_LE[:,0], X_LE[:,1], c =\"blue\")\n",
    " \n",
    "# To show the plot\n",
    "plt.show()"
   ]
  },
  {
   "cell_type": "code",
   "execution_count": 30,
   "metadata": {},
   "outputs": [],
   "source": [
    "# maybe easier to just take the average of the embedded points\n",
    "knot_XLE = np.array([[0.0 for _ in  range(X_LE.shape[1])] for _ in range(len(knots))])\n",
    "for i in range(len(knots)):\n",
    "    knot_XLE[i,:] = np.mean(X_LE[idxSet[i],:], axis = 0)"
   ]
  },
  {
   "cell_type": "code",
   "execution_count": 31,
   "metadata": {},
   "outputs": [
    {
     "ename": "ValueError",
     "evalue": "shapes (1027,) and (100,) not aligned: 1027 (dim 0) != 100 (dim 0)",
     "output_type": "error",
     "traceback": [
      "\u001b[1;31m---------------------------------------------------------------------------\u001b[0m",
      "\u001b[1;31mValueError\u001b[0m                                Traceback (most recent call last)",
      "Cell \u001b[1;32mIn[31], line 7\u001b[0m\n\u001b[0;32m      5\u001b[0m \u001b[39mif\u001b[39;00m i \u001b[39m!=\u001b[39m j \u001b[39mand\u001b[39;00m voron_weights[i,j] \u001b[39m>\u001b[39m \u001b[39m0\u001b[39m:\n\u001b[0;32m      6\u001b[0m     xdiff \u001b[39m=\u001b[39m knot_XLE[j,:]\u001b[39m-\u001b[39m  knot_XLE[i,:]\n\u001b[1;32m----> 7\u001b[0m     knot_velocity_graph_direct0[i,j] \u001b[39m=\u001b[39m np\u001b[39m.\u001b[39;49mdot(knot_velocity[i,:], xdiff)\u001b[39m/\u001b[39m(norm(xdiff)\u001b[39m*\u001b[39mnorm(knot_velocity[i,:]))\n",
      "File \u001b[1;32m<__array_function__ internals>:5\u001b[0m, in \u001b[0;36mdot\u001b[1;34m(*args, **kwargs)\u001b[0m\n",
      "\u001b[1;31mValueError\u001b[0m: shapes (1027,) and (100,) not aligned: 1027 (dim 0) != 100 (dim 0)"
     ]
    }
   ],
   "source": [
    "from numpy.linalg import norm\n",
    "knot_velocity_graph_direct0 = np.array([[0.0 for _ in  range(len(knots))] for _ in range(len(knots))])\n",
    "for i in range(len(knots)):\n",
    "    for j in range(len(knots)):\n",
    "        if i != j and voron_weights[i,j] > 0:\n",
    "            xdiff = knot_XLE[j,:]-  knot_XLE[i,:]\n",
    "            knot_velocity_graph_direct0[i,j] = np.dot(knot_velocity[i,:], xdiff)/(norm(xdiff)*norm(knot_velocity[i,:]))"
   ]
  }
 ],
 "metadata": {
  "kernelspec": {
   "display_name": "bioenv",
   "language": "python",
   "name": "python3"
  },
  "language_info": {
   "codemirror_mode": {
    "name": "ipython",
    "version": 3
   },
   "file_extension": ".py",
   "mimetype": "text/x-python",
   "name": "python",
   "nbconvert_exporter": "python",
   "pygments_lexer": "ipython3",
   "version": "3.9.16"
  },
  "orig_nbformat": 4
 },
 "nbformat": 4,
 "nbformat_minor": 2
}
